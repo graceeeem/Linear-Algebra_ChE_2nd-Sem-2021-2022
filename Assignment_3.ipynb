{
  "nbformat": 4,
  "nbformat_minor": 0,
  "metadata": {
    "colab": {
      "name": "Assignment 3.ipynb",
      "provenance": [],
      "toc_visible": true,
      "authorship_tag": "ABX9TyM8vfj4lnHQdJn7g/ZcTAAa",
      "include_colab_link": true
    },
    "kernelspec": {
      "name": "python3",
      "display_name": "Python 3"
    },
    "language_info": {
      "name": "python"
    }
  },
  "cells": [
    {
      "cell_type": "markdown",
      "metadata": {
        "id": "view-in-github",
        "colab_type": "text"
      },
      "source": [
        "<a href=\"https://colab.research.google.com/github/graceeeem/Linear-Algebra_ChE_2nd-Sem-2021-2022/blob/main/Assignment_3.ipynb\" target=\"_parent\"><img src=\"https://colab.research.google.com/assets/colab-badge.svg\" alt=\"Open In Colab\"/></a>"
      ]
    },
    {
      "cell_type": "markdown",
      "source": [
        "# Linear Algebra for ChE\n",
        "## Assignment 3: Matrices"
      ],
      "metadata": {
        "id": "yz1RnGKgKg_A"
      }
    },
    {
      "cell_type": "markdown",
      "source": [
        "###Objectives\n",
        "At the end of this activity you will be able to:\n",
        "1. Be familiar with matrices and their relation to linear equations.\n",
        "2. Perform basic matrix operations.\n",
        "3. Program and translate matrix equations and operations using Python.\n"
      ],
      "metadata": {
        "id": "eH1saRprKtLR"
      }
    },
    {
      "cell_type": "markdown",
      "source": [
        "### Discussion"
      ],
      "metadata": {
        "id": "YhrhrndOK0HG"
      }
    },
    {
      "cell_type": "code",
      "source": [
        "import numpy as np\n",
        "import matplotlib.pyplot as plt\n",
        "import scipy.linalg as la\n",
        "%matplotlib inline"
      ],
      "metadata": {
        "id": "kgnkmSIwK4-B"
      },
      "execution_count": 2,
      "outputs": []
    },
    {
      "cell_type": "markdown",
      "source": [
        "###Matrices"
      ],
      "metadata": {
        "id": "R9CYrMlsLrKK"
      }
    },
    {
      "cell_type": "markdown",
      "source": [
        "$$\n",
        "A = \\left\\{\n",
        "    \\begin{array}\\\n",
        "        x + y \\\\ \n",
        "        4x - 10y\n",
        "    \\end{array}\n",
        "\\right. \\\\\n",
        "B = \\left\\{\n",
        "    \\begin{array}\\\n",
        "        x+y+z \\\\ \n",
        "        3x -2y -z \\\\\n",
        "        -x + 4y +2z\n",
        "    \\end{array}\n",
        "\\right. \\\\ \n",
        "C= \\left\\{\n",
        "    \\begin{array}\\\n",
        "        w-2x+3y-4z \\\\ \n",
        "        3w-x-2y+z \\\\\n",
        "        2w-x+3y-2z\n",
        "    \\end{array}\n",
        "\\right. \\\\ \n",
        "$$"
      ],
      "metadata": {
        "id": "UwEGoRpIMqcH"
      }
    },
    {
      "cell_type": "markdown",
      "source": [
        "$$\n",
        "A=\\begin{bmatrix} 1 & 1 \\\\ 4 & -10\\end{bmatrix} \\\\\n",
        "B=\\begin{bmatrix} 1 & 1 & 1 \\\\ 3 & -2 & -1 \\\\ -1 & 4 & 2\\end{bmatrix}\\\\\n",
        "C=\\begin{bmatrix} 1 & -2 & 3 & -4 \\\\ 3 & -1 & -2 & 1 \\\\ 2 & -1 & 3 & -2\\end{bmatrix}\\\\\n",
        "$$\n"
      ],
      "metadata": {
        "id": "FVXItjq5OQVP"
      }
    },
    {
      "cell_type": "markdown",
      "source": [
        "$$A=\\begin{bmatrix}\n",
        "a_{(0,0)}&a_{(0,1)}&\\dots&a_{(0,j-1)}\\\\\n",
        "a_{(1,0)}&a_{(1,1)}&\\dots&a_{(1,j-1)}\\\\\n",
        "\\vdots&\\vdots&\\ddots&\\vdots&\\\\\n",
        "a_{(i-1,0)}&a_{(i-1,1)}&\\dots&a_{(i-1,j-1)}\n",
        "\\end{bmatrix}\n",
        "$$\n"
      ],
      "metadata": {
        "id": "sYrvdNq9QPgG"
      }
    },
    {
      "cell_type": "code",
      "source": [
        "def describe_mat(matrix):\n",
        "    print(f'Matrix:\\n{matrix}\\n\\nShape:\\t{matrix.shape}\\nRank:\\t{matrix.ndim}\\n')\n"
      ],
      "metadata": {
        "id": "hYRZOYupQ3vN"
      },
      "execution_count": 12,
      "outputs": []
    },
    {
      "cell_type": "code",
      "source": [
        "A = np.array([\n",
        "    [9, 4],\n",
        "    [8, 5]\n",
        "])\n",
        "describe_mat(A)\n"
      ],
      "metadata": {
        "colab": {
          "base_uri": "https://localhost:8080/"
        },
        "id": "gVNuf94tQ_YF",
        "outputId": "543b95d2-ce4a-4674-ea74-f44239cf4a9b"
      },
      "execution_count": 21,
      "outputs": [
        {
          "output_type": "stream",
          "name": "stdout",
          "text": [
            "Matrix:\n",
            "[[9 4]\n",
            " [8 5]]\n",
            "\n",
            "Shape:\t(2, 2)\n",
            "Rank:\t2\n",
            "\n"
          ]
        }
      ]
    },
    {
      "cell_type": "code",
      "source": [
        "G = np.array([\n",
        "    [8,4,5],\n",
        "    [2,3,7]\n",
        "])\n",
        "describe_mat(G)\n"
      ],
      "metadata": {
        "colab": {
          "base_uri": "https://localhost:8080/"
        },
        "id": "LzBkQVM9SOkX",
        "outputId": "42687cc1-40f4-42d5-c6a0-5e9b2b36f95c"
      },
      "execution_count": 18,
      "outputs": [
        {
          "output_type": "stream",
          "name": "stdout",
          "text": [
            "Matrix:\n",
            "[[8 4 5]\n",
            " [2 3 7]]\n",
            "\n",
            "Shape:\t(2, 3)\n",
            "Rank:\t2\n",
            "\n"
          ]
        }
      ]
    },
    {
      "cell_type": "code",
      "source": [
        "B = np.array([\n",
        "    [6, 1],\n",
        "    [3, 2],\n",
        "    [9, 5]\n",
        "])\n",
        "describe_mat(B)"
      ],
      "metadata": {
        "colab": {
          "base_uri": "https://localhost:8080/"
        },
        "id": "B1w9YtztSUSr",
        "outputId": "115188dd-0b29-4eb2-ee89-585949b7e446"
      },
      "execution_count": 19,
      "outputs": [
        {
          "output_type": "stream",
          "name": "stdout",
          "text": [
            "Matrix:\n",
            "[[6 1]\n",
            " [3 2]\n",
            " [9 5]]\n",
            "\n",
            "Shape:\t(3, 2)\n",
            "Rank:\t2\n",
            "\n"
          ]
        }
      ]
    },
    {
      "cell_type": "code",
      "source": [
        "H = np.array([1,8,5,7])\n",
        "describe_mat(H)"
      ],
      "metadata": {
        "colab": {
          "base_uri": "https://localhost:8080/"
        },
        "id": "rcmu2-13Snd8",
        "outputId": "2eaf5e0d-f77b-4f66-d325-f0d199519dc5"
      },
      "execution_count": 20,
      "outputs": [
        {
          "output_type": "stream",
          "name": "stdout",
          "text": [
            "Matrix:\n",
            "[1 8 5 7]\n",
            "\n",
            "Shape:\t(4,)\n",
            "Rank:\t1\n",
            "\n"
          ]
        }
      ]
    },
    {
      "cell_type": "markdown",
      "source": [
        "### Row Matrix"
      ],
      "metadata": {
        "id": "Ne1O0nZmXVVc"
      }
    },
    {
      "cell_type": "code",
      "source": [
        "## Declaring a Row Matrix\n",
        "\n",
        "rowmatrix1D = np.array([\n",
        "    4, 8, 7, -2\n",
        "]) ## this is a 1-D Matrix with a shape of (3,), it's not really considered as a row matrix.\n",
        "row_mat_2D = np.array([\n",
        "    [7,9,2, -1]\n",
        "]) ## this is a 2-D Matrix with a shape of (1,3)\n",
        "describe_mat(rowmatrix1D)\n",
        "describe_mat(row_mat_2D)"
      ],
      "metadata": {
        "colab": {
          "base_uri": "https://localhost:8080/"
        },
        "id": "sk_dhUl2T9da",
        "outputId": "61971be4-4c3c-4646-803f-9681d6bebf71"
      },
      "execution_count": 24,
      "outputs": [
        {
          "output_type": "stream",
          "name": "stdout",
          "text": [
            "Matrix:\n",
            "[ 4  8  7 -2]\n",
            "\n",
            "Shape:\t(4,)\n",
            "Rank:\t1\n",
            "\n",
            "Matrix:\n",
            "[[ 7  9  2 -1]]\n",
            "\n",
            "Shape:\t(1, 4)\n",
            "Rank:\t2\n",
            "\n"
          ]
        }
      ]
    },
    {
      "cell_type": "markdown",
      "source": [
        "###Column Matrix"
      ],
      "metadata": {
        "id": "mp8pIvqdVQct"
      }
    },
    {
      "cell_type": "code",
      "source": [
        "col_mat = np.array([\n",
        "    [5],\n",
        "    [9],\n",
        "    [3]\n",
        "]) ## this is a 2-D Matrix with a shape of (3,1)\n",
        "describe_mat(col_mat)"
      ],
      "metadata": {
        "colab": {
          "base_uri": "https://localhost:8080/"
        },
        "id": "oWZMsqRZUiAE",
        "outputId": "6c3ca941-59bd-4725-9508-865dff519edb"
      },
      "execution_count": 26,
      "outputs": [
        {
          "output_type": "stream",
          "name": "stdout",
          "text": [
            "Matrix:\n",
            "[[5]\n",
            " [9]\n",
            " [3]]\n",
            "\n",
            "Shape:\t(3, 1)\n",
            "Rank:\t2\n",
            "\n"
          ]
        }
      ]
    },
    {
      "cell_type": "markdown",
      "source": [
        "###Square Matrices"
      ],
      "metadata": {
        "id": "-3zHKYgaVLUv"
      }
    },
    {
      "cell_type": "code",
      "source": [
        "def describe_mat(matrix):\n",
        "    is_square = True if matrix.shape[0] == matrix.shape[1] else False \n",
        "    print(f'Matrix:\\n{matrix}\\n\\nShape:\\t{matrix.shape}\\nRank:\\t{matrix.ndim}\\nIs Square: {is_square}\\n')\n"
      ],
      "metadata": {
        "id": "kNv6hiJwVPA1"
      },
      "execution_count": 27,
      "outputs": []
    },
    {
      "cell_type": "code",
      "source": [
        "square_mat = np.array([\n",
        "    [5,8,7],\n",
        "    [9,3,4],\n",
        "    [1,5,3]\n",
        "])\n",
        "\n",
        "non_square_mat = np.array([\n",
        "    [8,4,2],\n",
        "    [5,9,1]\n",
        "])\n",
        "describe_mat(square_mat)\n",
        "describe_mat(non_square_mat)\n"
      ],
      "metadata": {
        "colab": {
          "base_uri": "https://localhost:8080/"
        },
        "id": "4cl8CmM3VfgK",
        "outputId": "e0dc0340-f7a6-47a1-d008-fcf084a43dfc"
      },
      "execution_count": 29,
      "outputs": [
        {
          "output_type": "stream",
          "name": "stdout",
          "text": [
            "Matrix:\n",
            "[[5 8 7]\n",
            " [9 3 4]\n",
            " [1 5 3]]\n",
            "\n",
            "Shape:\t(3, 3)\n",
            "Rank:\t2\n",
            "Is Square: True\n",
            "\n",
            "Matrix:\n",
            "[[8 4 2]\n",
            " [5 9 1]]\n",
            "\n",
            "Shape:\t(2, 3)\n",
            "Rank:\t2\n",
            "Is Square: False\n",
            "\n"
          ]
        }
      ]
    },
    {
      "cell_type": "markdown",
      "source": [
        "###Null Matrix"
      ],
      "metadata": {
        "id": "qm1mJvE5WNDT"
      }
    },
    {
      "cell_type": "code",
      "source": [
        "def describe_mat(matrix):\n",
        "    if matrix.size > 0:\n",
        "        is_square = True if matrix.shape[0] == matrix.shape[1] else False \n",
        "        print(f'Matrix:\\n{matrix}\\n\\nShape:\\t{matrix.shape}\\nRank:\\t{matrix.ndim}\\nIs Square: {is_square}\\n')\n",
        "    else:\n",
        "        print('Matrix is Null')"
      ],
      "metadata": {
        "id": "b0QkUpOuWPw3"
      },
      "execution_count": 30,
      "outputs": []
    },
    {
      "cell_type": "code",
      "source": [
        "null_mat = np.array([])\n",
        "describe_mat(null_mat)"
      ],
      "metadata": {
        "colab": {
          "base_uri": "https://localhost:8080/"
        },
        "id": "Ie1SP43EWWhc",
        "outputId": "b47ea182-8f43-4c78-f3b0-028c063abdfb"
      },
      "execution_count": 33,
      "outputs": [
        {
          "output_type": "stream",
          "name": "stdout",
          "text": [
            "Matrix is Null\n"
          ]
        }
      ]
    },
    {
      "cell_type": "markdown",
      "source": [
        "### Zero Matrix"
      ],
      "metadata": {
        "id": "Nbw5u1kKXLlj"
      }
    },
    {
      "cell_type": "code",
      "source": [
        "zero_mat_row = np.zeros((1,2))\n",
        "zero_mat_sqr = np.zeros((3,2))\n",
        "zero_mat_rct = np.zeros((4,2))\n",
        "\n",
        "print(f'Zero Row Matrix: \\n{zero_mat_row}')\n",
        "print(f'Zero Square Matrix: \\n{zero_mat_sqr}')\n",
        "print(f'Zero Rectangular Matrix: \\n{zero_mat_rct}')\n"
      ],
      "metadata": {
        "colab": {
          "base_uri": "https://localhost:8080/"
        },
        "id": "vldwe-3aXPEs",
        "outputId": "8c1a616b-5ca6-49f0-f507-b8609347a2d9"
      },
      "execution_count": 36,
      "outputs": [
        {
          "output_type": "stream",
          "name": "stdout",
          "text": [
            "Zero Row Matrix: \n",
            "[[0. 0.]]\n",
            "Zero Square Matrix: \n",
            "[[0. 0.]\n",
            " [0. 0.]\n",
            " [0. 0.]]\n",
            "Zero Rectangular Matrix: \n",
            "[[0. 0.]\n",
            " [0. 0.]\n",
            " [0. 0.]\n",
            " [0. 0.]]\n"
          ]
        }
      ]
    },
    {
      "cell_type": "markdown",
      "source": [
        "### Ones Matrix"
      ],
      "metadata": {
        "id": "TTPsqPdSXrR2"
      }
    },
    {
      "cell_type": "code",
      "source": [
        "ones_mat_row = np.ones((2,3))\n",
        "ones_mat_sqr = np.ones((1,2))\n",
        "ones_mat_rct = np.ones((3,3))\n",
        "\n",
        "print(f'Ones Row Matrix: \\n{ones_mat_row}')\n",
        "print(f'Ones Square Matrix: \\n{ones_mat_sqr}')\n",
        "print(f'Ones Rectangular Matrix: \\n{ones_mat_rct}')\n"
      ],
      "metadata": {
        "colab": {
          "base_uri": "https://localhost:8080/"
        },
        "id": "2oa79E34Xotf",
        "outputId": "f5aef9bc-30c6-4770-f2f5-94f1c7d667ec"
      },
      "execution_count": 40,
      "outputs": [
        {
          "output_type": "stream",
          "name": "stdout",
          "text": [
            "Ones Row Matrix: \n",
            "[[1. 1. 1.]\n",
            " [1. 1. 1.]]\n",
            "Ones Square Matrix: \n",
            "[[1. 1.]]\n",
            "Ones Rectangular Matrix: \n",
            "[[1. 1. 1.]\n",
            " [1. 1. 1.]\n",
            " [1. 1. 1.]]\n"
          ]
        }
      ]
    },
    {
      "cell_type": "markdown",
      "source": [
        "### Diagonal Matrix"
      ],
      "metadata": {
        "id": "Mq6xn1i4X4S5"
      }
    },
    {
      "cell_type": "code",
      "source": [
        "#Manual Input\n",
        "np.array([\n",
        "    [2,0,0],\n",
        "    [0,3,0],\n",
        "    [0,0,5]\n",
        "])\n"
      ],
      "metadata": {
        "colab": {
          "base_uri": "https://localhost:8080/"
        },
        "id": "Y7HF0hCeX8G5",
        "outputId": "43db7414-8627-4dc4-b58f-9a6e2df56c18"
      },
      "execution_count": 44,
      "outputs": [
        {
          "output_type": "execute_result",
          "data": {
            "text/plain": [
              "array([[2, 0, 0],\n",
              "       [0, 3, 0],\n",
              "       [0, 0, 5]])"
            ]
          },
          "metadata": {},
          "execution_count": 44
        }
      ]
    },
    {
      "cell_type": "code",
      "source": [
        "#np.diag \n",
        "d = np.diag([2,3,5,7])\n",
        "d"
      ],
      "metadata": {
        "colab": {
          "base_uri": "https://localhost:8080/"
        },
        "id": "OrgaXiKQYI_V",
        "outputId": "8ef159d4-56dc-47ee-fd01-c20fc71b28a2"
      },
      "execution_count": 45,
      "outputs": [
        {
          "output_type": "execute_result",
          "data": {
            "text/plain": [
              "array([[2, 0, 0, 0],\n",
              "       [0, 3, 0, 0],\n",
              "       [0, 0, 5, 0],\n",
              "       [0, 0, 0, 7]])"
            ]
          },
          "metadata": {},
          "execution_count": 45
        }
      ]
    },
    {
      "cell_type": "markdown",
      "source": [
        "###Identity Matrix"
      ],
      "metadata": {
        "id": "6GGCgKLpYwQ9"
      }
    },
    {
      "cell_type": "code",
      "source": [
        "np.eye(4)"
      ],
      "metadata": {
        "colab": {
          "base_uri": "https://localhost:8080/"
        },
        "id": "Gqo5GIqhY0_D",
        "outputId": "9ea76857-61a7-40b6-9d28-7a9167a9c81e"
      },
      "execution_count": 48,
      "outputs": [
        {
          "output_type": "execute_result",
          "data": {
            "text/plain": [
              "array([[1., 0., 0., 0.],\n",
              "       [0., 1., 0., 0.],\n",
              "       [0., 0., 1., 0.],\n",
              "       [0., 0., 0., 1.]])"
            ]
          },
          "metadata": {},
          "execution_count": 48
        }
      ]
    },
    {
      "cell_type": "code",
      "source": [
        "np.identity(9)"
      ],
      "metadata": {
        "colab": {
          "base_uri": "https://localhost:8080/"
        },
        "id": "I2wnCpSpY-Vj",
        "outputId": "16a1c15e-7a74-4814-e66c-28be23cc90b0"
      },
      "execution_count": 47,
      "outputs": [
        {
          "output_type": "execute_result",
          "data": {
            "text/plain": [
              "array([[1., 0., 0., 0., 0., 0., 0., 0., 0.],\n",
              "       [0., 1., 0., 0., 0., 0., 0., 0., 0.],\n",
              "       [0., 0., 1., 0., 0., 0., 0., 0., 0.],\n",
              "       [0., 0., 0., 1., 0., 0., 0., 0., 0.],\n",
              "       [0., 0., 0., 0., 1., 0., 0., 0., 0.],\n",
              "       [0., 0., 0., 0., 0., 1., 0., 0., 0.],\n",
              "       [0., 0., 0., 0., 0., 0., 1., 0., 0.],\n",
              "       [0., 0., 0., 0., 0., 0., 0., 1., 0.],\n",
              "       [0., 0., 0., 0., 0., 0., 0., 0., 1.]])"
            ]
          },
          "metadata": {},
          "execution_count": 47
        }
      ]
    },
    {
      "cell_type": "markdown",
      "source": [
        "###Upper Triangular Matrix"
      ],
      "metadata": {
        "id": "MdDDVJL2ZUiA"
      }
    },
    {
      "cell_type": "code",
      "source": [
        "#Manual\n",
        "np.array([\n",
        "    [1,2,3,4],\n",
        "    [0,3,1,-1],\n",
        "    [0,0,5,2],\n",
        "    [0,0,0,2]\n",
        "])\n"
      ],
      "metadata": {
        "colab": {
          "base_uri": "https://localhost:8080/"
        },
        "id": "2ss-GRWTZXfR",
        "outputId": "dda686c4-d5a1-45e7-f3a1-83a070a77fe6"
      },
      "execution_count": 51,
      "outputs": [
        {
          "output_type": "execute_result",
          "data": {
            "text/plain": [
              "array([[ 1,  2,  3,  4],\n",
              "       [ 0,  3,  1, -1],\n",
              "       [ 0,  0,  5,  2],\n",
              "       [ 0,  0,  0,  2]])"
            ]
          },
          "metadata": {},
          "execution_count": 51
        }
      ]
    },
    {
      "cell_type": "code",
      "source": [
        "#Not array to array\n",
        "F = np.array([\n",
        "              [2, -3, 4, -5, 6],\n",
        "              [2, -3, 4, -5, 6],\n",
        "              [2, -3, 4, -5, 6],\n",
        "              [2, -3, 4, -5, 6],\n",
        "              [2, -3, 4, -5, 6],\n",
        "])\n",
        "np.triu(F)\n"
      ],
      "metadata": {
        "colab": {
          "base_uri": "https://localhost:8080/"
        },
        "id": "c-tydNDlZvxK",
        "outputId": "09ced480-e5ce-46de-a624-945274d321f4"
      },
      "execution_count": 52,
      "outputs": [
        {
          "output_type": "execute_result",
          "data": {
            "text/plain": [
              "array([[ 2, -3,  4, -5,  6],\n",
              "       [ 0, -3,  4, -5,  6],\n",
              "       [ 0,  0,  4, -5,  6],\n",
              "       [ 0,  0,  0, -5,  6],\n",
              "       [ 0,  0,  0,  0,  6]])"
            ]
          },
          "metadata": {},
          "execution_count": 52
        }
      ]
    },
    {
      "cell_type": "markdown",
      "source": [
        "###Lower Triangular Matrix"
      ],
      "metadata": {
        "id": "ZgpiYYB8aHAX"
      }
    },
    {
      "cell_type": "code",
      "source": [
        "F = np.array([\n",
        "              [2, -3, 4, -5, 6],\n",
        "              [2, -3, 4, -5, 6],\n",
        "              [2, -3, 4, -5, 6],\n",
        "              [2, -3, 4, -5, 6],\n",
        "              [2, -3, 4, -5, 6],\n",
        "])\n",
        "np.tril(F)\n"
      ],
      "metadata": {
        "colab": {
          "base_uri": "https://localhost:8080/"
        },
        "id": "Vmkxug6HaMCY",
        "outputId": "b4372d1b-efc5-4fd0-9990-c1ecf0123366"
      },
      "execution_count": 55,
      "outputs": [
        {
          "output_type": "execute_result",
          "data": {
            "text/plain": [
              "array([[ 2,  0,  0,  0,  0],\n",
              "       [ 2, -3,  0,  0,  0],\n",
              "       [ 2, -3,  4,  0,  0],\n",
              "       [ 2, -3,  4, -5,  0],\n",
              "       [ 2, -3,  4, -5,  6]])"
            ]
          },
          "metadata": {},
          "execution_count": 55
        }
      ]
    },
    {
      "cell_type": "markdown",
      "source": [
        "#Activity"
      ],
      "metadata": {
        "id": "jwBjtjqpa8cQ"
      }
    },
    {
      "cell_type": "markdown",
      "source": [
        "1. Given the linear combination below, try to create a corresponding matrix representing it."
      ],
      "metadata": {
        "id": "ye8lqULRa-ke"
      }
    },
    {
      "cell_type": "markdown",
      "source": [
        ":$$\\theta = 5x + 3y - z$$\n"
      ],
      "metadata": {
        "id": "ERLW41MzbEod"
      }
    },
    {
      "cell_type": "markdown",
      "source": [
        "2. Given the system of linear combinations below, try to encode it as a matrix. Also describe the matrix."
      ],
      "metadata": {
        "id": "GW7QKsCXbGd-"
      }
    },
    {
      "cell_type": "markdown",
      "source": [
        "$$\n",
        "A = \\left\\{\\begin{array}\n",
        "5x_1 + 2x_2 +x_3\\\\\n",
        "4x_2 - x_3\\\\\n",
        "10x_3\n",
        "\\end{array}\\right.\n",
        "$$"
      ],
      "metadata": {
        "id": "vWHitgpYbJfz"
      }
    },
    {
      "cell_type": "markdown",
      "source": [
        "3. Given the matrix below, express it as a linear combination in a markdown and a LaTeX markdown\n"
      ],
      "metadata": {
        "id": "Wy_wB4l7bSvF"
      }
    },
    {
      "cell_type": "code",
      "source": [
        "G = np.array([\n",
        "    [1,7,8],\n",
        "    [2,2,2],\n",
        "    [4,6,7]\n",
        "])\n"
      ],
      "metadata": {
        "id": "j7hdDBlcbZXy"
      },
      "execution_count": null,
      "outputs": []
    },
    {
      "cell_type": "markdown",
      "source": [
        "4. Given the matrix below, display the output as a LaTeX markdown also express it as a system of linear combinations."
      ],
      "metadata": {
        "id": "WQXEPG67ba4S"
      }
    },
    {
      "cell_type": "code",
      "source": [
        "H = np.tril(G)\n",
        "H\n"
      ],
      "metadata": {
        "id": "MkCpvMvnbgQK"
      },
      "execution_count": null,
      "outputs": []
    },
    {
      "cell_type": "markdown",
      "source": [
        "###Addition"
      ],
      "metadata": {
        "id": "72oPxUOTbiyp"
      }
    },
    {
      "cell_type": "markdown",
      "source": [
        "###Element-wise Multiplication"
      ],
      "metadata": {
        "id": "6plGc079b1Aa"
      }
    },
    {
      "cell_type": "markdown",
      "source": [
        ""
      ],
      "metadata": {
        "id": "CEQFoKo1cuCy"
      }
    }
  ]
}