{
  "nbformat": 4,
  "nbformat_minor": 0,
  "metadata": {
    "colab": {
      "name": "Assignment6.ipynb",
      "provenance": [],
      "collapsed_sections": [],
      "authorship_tag": "ABX9TyM6W9s6tOtYSauPJdpwntGm",
      "include_colab_link": true
    },
    "kernelspec": {
      "name": "python3",
      "display_name": "Python 3"
    },
    "language_info": {
      "name": "python"
    }
  },
  "cells": [
    {
      "cell_type": "markdown",
      "metadata": {
        "id": "view-in-github",
        "colab_type": "text"
      },
      "source": [
        "<a href=\"https://colab.research.google.com/github/graceeeem/Linear-Algebra_ChE_2nd-Sem-2021-2022/blob/main/Assignment6.ipynb\" target=\"_parent\"><img src=\"https://colab.research.google.com/assets/colab-badge.svg\" alt=\"Open In Colab\"/></a>"
      ]
    },
    {
      "cell_type": "markdown",
      "source": [
        "#Linear Algebra for ChE\n",
        "Laboratory 6: Matrix Operations"
      ],
      "metadata": {
        "id": "_8LIwZTwS5aN"
      }
    },
    {
      "cell_type": "markdown",
      "source": [
        "##Discussion"
      ],
      "metadata": {
        "id": "G7484eQsS_1z"
      }
    },
    {
      "cell_type": "code",
      "source": [
        "import numpy as np\n",
        "import matplotlib.pyplot as plt\n",
        "%matplotlib inline"
      ],
      "metadata": {
        "id": "VH6DzfxcTBsG"
      },
      "execution_count": 1,
      "outputs": []
    },
    {
      "cell_type": "markdown",
      "source": [
        "###Transposition"
      ],
      "metadata": {
        "id": "0iC8waK6Th0z"
      }
    },
    {
      "cell_type": "markdown",
      "source": [
        "$$\n",
        "A=\\begin{bmatrix} 4 & 8 & -2 \\\\ 6 & -3 & 5 \\\\ 9 & 3 & 7\\end{bmatrix}\\\\\n",
        "$$"
      ],
      "metadata": {
        "id": "8_JQkZWYT14Z"
      }
    },
    {
      "cell_type": "markdown",
      "source": [
        "$$\n",
        "A^T=\\begin{bmatrix} 4 & 6 & 9 \\\\ 8 & -3 & 3 \\\\ -2 & 5 & 7\\end{bmatrix}\\\\\n",
        "$$"
      ],
      "metadata": {
        "id": "4G3PNPmoURSN"
      }
    },
    {
      "cell_type": "markdown",
      "source": [
        "np.transpose() or using the T method"
      ],
      "metadata": {
        "id": "IO7svSDdVE2C"
      }
    },
    {
      "cell_type": "code",
      "source": [
        "G = np.array([\n",
        "    [1,7,8],\n",
        "    [3,9,0],\n",
        "    [4,6,7]\n",
        "])"
      ],
      "metadata": {
        "id": "A9ixXOtxVJ1w"
      },
      "execution_count": 8,
      "outputs": []
    },
    {
      "cell_type": "code",
      "source": [
        "GT1 = np.transpose(G)\n",
        "GT1"
      ],
      "metadata": {
        "colab": {
          "base_uri": "https://localhost:8080/"
        },
        "id": "-Z3wFbXPVUeb",
        "outputId": "2a920de5-0730-40b6-dc4a-47266ab80d37"
      },
      "execution_count": 9,
      "outputs": [
        {
          "output_type": "execute_result",
          "data": {
            "text/plain": [
              "array([[1, 3, 4],\n",
              "       [7, 9, 6],\n",
              "       [8, 0, 7]])"
            ]
          },
          "metadata": {},
          "execution_count": 9
        }
      ]
    },
    {
      "cell_type": "code",
      "source": [
        "GT2 = G.T\n",
        "GT2"
      ],
      "metadata": {
        "colab": {
          "base_uri": "https://localhost:8080/"
        },
        "id": "gk3R5d2rVddG",
        "outputId": "645b0d6e-6668-466c-ae0d-b33a91410bdf"
      },
      "execution_count": 10,
      "outputs": [
        {
          "output_type": "execute_result",
          "data": {
            "text/plain": [
              "array([[1, 3, 4],\n",
              "       [7, 9, 6],\n",
              "       [8, 0, 7]])"
            ]
          },
          "metadata": {},
          "execution_count": 10
        }
      ]
    },
    {
      "cell_type": "code",
      "source": [
        "np.array_equiv(GT1, GT2)"
      ],
      "metadata": {
        "colab": {
          "base_uri": "https://localhost:8080/"
        },
        "id": "Njqn1ce9Vp3q",
        "outputId": "b2febdf8-7358-47f5-f163-7d2e8cdbf1e2"
      },
      "execution_count": 11,
      "outputs": [
        {
          "output_type": "execute_result",
          "data": {
            "text/plain": [
              "True"
            ]
          },
          "metadata": {},
          "execution_count": 11
        }
      ]
    },
    {
      "cell_type": "code",
      "source": [
        "R = np.array([\n",
        "    [1,7,8,5],\n",
        "    [3,9,0,4]\n",
        "])\n",
        "R.shape"
      ],
      "metadata": {
        "colab": {
          "base_uri": "https://localhost:8080/"
        },
        "id": "RYToxS2xYLql",
        "outputId": "a7d14cd8-ba22-4dc5-c237-d0976558945a"
      },
      "execution_count": 12,
      "outputs": [
        {
          "output_type": "execute_result",
          "data": {
            "text/plain": [
              "(2, 4)"
            ]
          },
          "metadata": {},
          "execution_count": 12
        }
      ]
    },
    {
      "cell_type": "code",
      "source": [
        "np.transpose(R).shape"
      ],
      "metadata": {
        "colab": {
          "base_uri": "https://localhost:8080/"
        },
        "id": "g049ar60YVwd",
        "outputId": "f3c08de2-2a0c-4e04-9c32-abbc15c2aaf3"
      },
      "execution_count": 14,
      "outputs": [
        {
          "output_type": "execute_result",
          "data": {
            "text/plain": [
              "(4, 2)"
            ]
          },
          "metadata": {},
          "execution_count": 14
        }
      ]
    },
    {
      "cell_type": "code",
      "source": [
        "R.T.shape"
      ],
      "metadata": {
        "colab": {
          "base_uri": "https://localhost:8080/"
        },
        "id": "tHf3Ory6Yh6T",
        "outputId": "a907e9e1-4db2-4581-f2ac-b9acde034e9a"
      },
      "execution_count": 16,
      "outputs": [
        {
          "output_type": "execute_result",
          "data": {
            "text/plain": [
              "(4, 2)"
            ]
          },
          "metadata": {},
          "execution_count": 16
        }
      ]
    },
    {
      "cell_type": "markdown",
      "source": [
        "##Dot Product/Inner Product"
      ],
      "metadata": {
        "id": "_aP6t6zKY1Qm"
      }
    },
    {
      "cell_type": "code",
      "source": [
        "A = np.array([\n",
        "    [4,-2,4],\n",
        "    [3,9,1],\n",
        "    [-1,2,8]\n",
        "])\n",
        "C = np.array([\n",
        "    [2,7,0],\n",
        "    [3,-9,8],\n",
        "    [4,-5,1]\n",
        "])"
      ],
      "metadata": {
        "id": "NQvxaN6wY_YI"
      },
      "execution_count": 19,
      "outputs": []
    },
    {
      "cell_type": "code",
      "source": [
        "np.array_equiv(A, C)"
      ],
      "metadata": {
        "colab": {
          "base_uri": "https://localhost:8080/"
        },
        "id": "gneOQ170aCBV",
        "outputId": "f4750d25-5cf7-402f-b9be-e08f279b6a86"
      },
      "execution_count": 23,
      "outputs": [
        {
          "output_type": "execute_result",
          "data": {
            "text/plain": [
              "False"
            ]
          },
          "metadata": {},
          "execution_count": 23
        }
      ]
    },
    {
      "cell_type": "code",
      "source": [
        "np.dot(A, C)"
      ],
      "metadata": {
        "colab": {
          "base_uri": "https://localhost:8080/"
        },
        "id": "xYoRjkJqZ34z",
        "outputId": "d92e2bd9-66a5-4d58-cf8d-5f287761eb7a"
      },
      "execution_count": 21,
      "outputs": [
        {
          "output_type": "execute_result",
          "data": {
            "text/plain": [
              "array([[ 18,  26, -12],\n",
              "       [ 37, -65,  73],\n",
              "       [ 36, -65,  24]])"
            ]
          },
          "metadata": {},
          "execution_count": 21
        }
      ]
    },
    {
      "cell_type": "code",
      "source": [
        "A.dot(C)"
      ],
      "metadata": {
        "colab": {
          "base_uri": "https://localhost:8080/"
        },
        "id": "AdfSnQOUZaZd",
        "outputId": "df8dc040-bb92-4ea4-a658-de5236c9dbed"
      },
      "execution_count": 20,
      "outputs": [
        {
          "output_type": "execute_result",
          "data": {
            "text/plain": [
              "array([[ 18,  26, -12],\n",
              "       [ 37, -65,  73],\n",
              "       [ 36, -65,  24]])"
            ]
          },
          "metadata": {},
          "execution_count": 20
        }
      ]
    },
    {
      "cell_type": "code",
      "source": [
        "A @ C"
      ],
      "metadata": {
        "colab": {
          "base_uri": "https://localhost:8080/"
        },
        "id": "PcIbphOhZwvE",
        "outputId": "97651596-fa4f-4461-fd93-3509db5c40dd"
      },
      "execution_count": 22,
      "outputs": [
        {
          "output_type": "execute_result",
          "data": {
            "text/plain": [
              "array([[ 18,  26, -12],\n",
              "       [ 37, -65,  73],\n",
              "       [ 36, -65,  24]])"
            ]
          },
          "metadata": {},
          "execution_count": 22
        }
      ]
    },
    {
      "cell_type": "code",
      "source": [
        "np.matmul(A,C)"
      ],
      "metadata": {
        "colab": {
          "base_uri": "https://localhost:8080/"
        },
        "id": "Qx6BgX6_aHQz",
        "outputId": "1af35722-6c46-4755-84ec-ce7cadbd27c1"
      },
      "execution_count": 24,
      "outputs": [
        {
          "output_type": "execute_result",
          "data": {
            "text/plain": [
              "array([[ 18,  26, -12],\n",
              "       [ 37, -65,  73],\n",
              "       [ 36, -65,  24]])"
            ]
          },
          "metadata": {},
          "execution_count": 24
        }
      ]
    },
    {
      "cell_type": "markdown",
      "source": [
        "Rule 1: The inner dimensions of the two matrices in question must be the same."
      ],
      "metadata": {
        "id": "cJgL8icNboY3"
      }
    },
    {
      "cell_type": "code",
      "source": [
        "E = np.array([\n",
        "    [4,-2,8],\n",
        "    [1,0,9],\n",
        "    [-5,1,2],\n",
        "    [3,9,6]\n",
        "])\n",
        "F = np.array([\n",
        "    [2,7,5],\n",
        "    [1,3,0],\n",
        "    [5,8,-2],\n",
        "    [3,-9,1]\n",
        "])\n",
        "G = np.array([\n",
        "    [1,7],\n",
        "    [3,9],\n",
        "    [2,4]\n",
        "])\n",
        "print(E.shape)\n",
        "print(F.shape)\n",
        "print(G.shape)"
      ],
      "metadata": {
        "colab": {
          "base_uri": "https://localhost:8080/"
        },
        "id": "8XLjAkeFb2g2",
        "outputId": "c875155f-0d25-41a2-97c9-412bed0918a1"
      },
      "execution_count": 36,
      "outputs": [
        {
          "output_type": "stream",
          "name": "stdout",
          "text": [
            "(4, 3)\n",
            "(4, 3)\n",
            "(3, 2)\n"
          ]
        }
      ]
    },
    {
      "cell_type": "code",
      "source": [
        "E @ G"
      ],
      "metadata": {
        "colab": {
          "base_uri": "https://localhost:8080/"
        },
        "id": "Q6bB8zLCcanJ",
        "outputId": "061851c5-9ee2-4e36-f0ef-2ede62f823f2"
      },
      "execution_count": 37,
      "outputs": [
        {
          "output_type": "execute_result",
          "data": {
            "text/plain": [
              "array([[ 14,  42],\n",
              "       [ 19,  43],\n",
              "       [  2, -18],\n",
              "       [ 42, 126]])"
            ]
          },
          "metadata": {},
          "execution_count": 37
        }
      ]
    },
    {
      "cell_type": "code",
      "source": [
        "F @ G"
      ],
      "metadata": {
        "colab": {
          "base_uri": "https://localhost:8080/"
        },
        "id": "0OCcpAVqctDO",
        "outputId": "5a28d0d6-5a13-4687-d4e0-30c2bfb325dc"
      },
      "execution_count": 38,
      "outputs": [
        {
          "output_type": "execute_result",
          "data": {
            "text/plain": [
              "array([[ 33,  97],\n",
              "       [ 10,  34],\n",
              "       [ 25,  99],\n",
              "       [-22, -56]])"
            ]
          },
          "metadata": {},
          "execution_count": 38
        }
      ]
    },
    {
      "cell_type": "code",
      "source": [
        "E @ F"
      ],
      "metadata": {
        "colab": {
          "base_uri": "https://localhost:8080/",
          "height": 182
        },
        "id": "BKtEPvhKcwo3",
        "outputId": "c954d10c-47a9-46bf-f9a8-40a3e1500f00"
      },
      "execution_count": 39,
      "outputs": [
        {
          "output_type": "error",
          "ename": "ValueError",
          "evalue": "ignored",
          "traceback": [
            "\u001b[0;31m---------------------------------------------------------------------------\u001b[0m",
            "\u001b[0;31mValueError\u001b[0m                                Traceback (most recent call last)",
            "\u001b[0;32m<ipython-input-39-7453a52446e8>\u001b[0m in \u001b[0;36m<module>\u001b[0;34m()\u001b[0m\n\u001b[0;32m----> 1\u001b[0;31m \u001b[0mE\u001b[0m \u001b[0;34m@\u001b[0m \u001b[0mF\u001b[0m\u001b[0;34m\u001b[0m\u001b[0;34m\u001b[0m\u001b[0m\n\u001b[0m",
            "\u001b[0;31mValueError\u001b[0m: matmul: Input operand 1 has a mismatch in its core dimension 0, with gufunc signature (n?,k),(k,m?)->(n?,m?) (size 4 is different from 3)"
          ]
        }
      ]
    },
    {
      "cell_type": "code",
      "source": [
        "E @ F.T"
      ],
      "metadata": {
        "colab": {
          "base_uri": "https://localhost:8080/"
        },
        "id": "kkXb-cHAc21c",
        "outputId": "84935efb-1d41-4fd5-cb4a-d55d9cff71de"
      },
      "execution_count": 40,
      "outputs": [
        {
          "output_type": "execute_result",
          "data": {
            "text/plain": [
              "array([[ 34,  -2, -12,  38],\n",
              "       [ 47,   1, -13,  12],\n",
              "       [  7,  -2, -21, -22],\n",
              "       [ 99,  30,  75, -66]])"
            ]
          },
          "metadata": {},
          "execution_count": 40
        }
      ]
    },
    {
      "cell_type": "markdown",
      "source": [
        "Rule 2: Dot Product has special properties"
      ],
      "metadata": {
        "id": "SjVkATeieEUP"
      }
    },
    {
      "cell_type": "code",
      "source": [
        "A = np.array([\n",
        "    [4,2],\n",
        "    [5,-1],\n",
        "    [7,4],\n",
        "    [2,9]\n",
        "])\n",
        "B = np.array([\n",
        "    [4,1],\n",
        "    [8,2],\n",
        "    [-5,2],\n",
        "    [1,3]\n",
        "])\n",
        "C = np.array([\n",
        "    [1,3],\n",
        "    [0,-1],\n",
        "    [6,5],\n",
        "    [1,4]\n",
        "])"
      ],
      "metadata": {
        "id": "CAt-UWHUeXNn"
      },
      "execution_count": null,
      "outputs": []
    },
    {
      "cell_type": "markdown",
      "source": [
        "###Determinant"
      ],
      "metadata": {
        "id": "-cCeEGOQe8aH"
      }
    },
    {
      "cell_type": "code",
      "source": [
        "I = np.array([\n",
        "    [4,2],\n",
        "    [9,5]\n",
        "])\n",
        "np.linalg.det(I)"
      ],
      "metadata": {
        "colab": {
          "base_uri": "https://localhost:8080/"
        },
        "id": "0TaNZvrtfCNm",
        "outputId": "051a9e30-fed1-41f4-846f-d2c920b0af87"
      },
      "execution_count": 48,
      "outputs": [
        {
          "output_type": "execute_result",
          "data": {
            "text/plain": [
              "2.000000000000001"
            ]
          },
          "metadata": {},
          "execution_count": 48
        }
      ]
    },
    {
      "cell_type": "code",
      "source": [
        "S = np.array([\n",
        "    [2,5,-6],\n",
        "    [4,7,9],\n",
        "    [-1,8,3]\n",
        "])\n",
        "np.linalg.det(S)"
      ],
      "metadata": {
        "colab": {
          "base_uri": "https://localhost:8080/"
        },
        "id": "vsZFc3Spfe58",
        "outputId": "6b13525f-25f8-47f0-ec27-5ce161429024"
      },
      "execution_count": 49,
      "outputs": [
        {
          "output_type": "execute_result",
          "data": {
            "text/plain": [
              "-440.9999999999996"
            ]
          },
          "metadata": {},
          "execution_count": 49
        }
      ]
    },
    {
      "cell_type": "markdown",
      "source": [
        "do 4X4"
      ],
      "metadata": {
        "id": "1isXyUjsgvrF"
      }
    },
    {
      "cell_type": "markdown",
      "source": [
        "###Inverse"
      ],
      "metadata": {
        "id": "EDGysTEGgxZs"
      }
    },
    {
      "cell_type": "code",
      "source": [
        "B = np.array([\n",
        "    [3,4],\n",
        "    [-1, 7]\n",
        "])\n",
        "\n",
        "np.array(B @ np.linalg.inv(B), dtype=int)"
      ],
      "metadata": {
        "colab": {
          "base_uri": "https://localhost:8080/"
        },
        "id": "K3Ceipk3g0nm",
        "outputId": "e5717de2-c814-4f83-ac73-edde817a413e"
      },
      "execution_count": 54,
      "outputs": [
        {
          "output_type": "execute_result",
          "data": {
            "text/plain": [
              "array([[1, 0],\n",
              "       [0, 1]])"
            ]
          },
          "metadata": {},
          "execution_count": 54
        }
      ]
    },
    {
      "cell_type": "code",
      "source": [
        "W = np.array([\n",
        "              [3, 2, 5, 4],\n",
        "              [4, 8, -2, 6],\n",
        "              [4, 8, -2, -2],\n",
        "              [9, -7, 3, 1]\n",
        "])\n",
        "T = np.linalg.inv(W)\n",
        "T"
      ],
      "metadata": {
        "colab": {
          "base_uri": "https://localhost:8080/"
        },
        "id": "atHulashhDn_",
        "outputId": "d58fe0a8-457a-4b9f-e4e6-76733906a843"
      },
      "execution_count": 59,
      "outputs": [
        {
          "output_type": "execute_result",
          "data": {
            "text/plain": [
              "array([[-1.88679245e-02,  1.83962264e-02,  5.89622642e-02,\n",
              "         8.30188679e-02],\n",
              "       [ 5.66037736e-02, -5.18867925e-03,  7.31132075e-02,\n",
              "        -4.90566038e-02],\n",
              "       [ 1.88679245e-01, -1.08962264e-01,  3.53773585e-02,\n",
              "        -3.01886792e-02],\n",
              "       [-1.57107032e-17,  1.25000000e-01, -1.25000000e-01,\n",
              "         9.45260641e-18]])"
            ]
          },
          "metadata": {},
          "execution_count": 59
        }
      ]
    },
    {
      "cell_type": "code",
      "source": [
        "W @ T"
      ],
      "metadata": {
        "colab": {
          "base_uri": "https://localhost:8080/"
        },
        "id": "4xNZjzkIheX_",
        "outputId": "1ec07843-eefe-4402-9242-20630081ec49"
      },
      "execution_count": 60,
      "outputs": [
        {
          "output_type": "execute_result",
          "data": {
            "text/plain": [
              "array([[ 1.00000000e+00,  5.55111512e-17,  0.00000000e+00,\n",
              "        -3.82293777e-18],\n",
              "       [-3.87530678e-17,  1.00000000e+00, -5.55111512e-17,\n",
              "         2.89600629e-17],\n",
              "       [ 8.69325576e-17,  5.55111512e-17,  1.00000000e+00,\n",
              "        -4.66607884e-17],\n",
              "       [-7.12218544e-17, -5.55111512e-17, -5.55111512e-17,\n",
              "         1.00000000e+00]])"
            ]
          },
          "metadata": {},
          "execution_count": 60
        }
      ]
    }
  ]
}