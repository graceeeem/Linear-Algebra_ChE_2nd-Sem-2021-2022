{
  "nbformat": 4,
  "nbformat_minor": 0,
  "metadata": {
    "colab": {
      "name": "Activity 1 - Python Fundamentals",
      "provenance": [],
      "collapsed_sections": [
        "rtHjxH1KLY5j",
        "A_jAO1HVIGwU"
      ],
      "toc_visible": true,
      "authorship_tag": "ABX9TyO9mzOLRTi2NNPMf92Sb0zL",
      "include_colab_link": true
    },
    "kernelspec": {
      "name": "python3",
      "display_name": "Python 3"
    },
    "language_info": {
      "name": "python"
    }
  },
  "cells": [
    {
      "cell_type": "markdown",
      "metadata": {
        "id": "view-in-github",
        "colab_type": "text"
      },
      "source": [
        "<a href=\"https://colab.research.google.com/github/graceeeem/Linear-Algebra_ChE_2nd-Sem-2021-2022/blob/main/Activity_1_Python_Fundamentals.ipynb\" target=\"_parent\"><img src=\"https://colab.research.google.com/assets/colab-badge.svg\" alt=\"Open In Colab\"/></a>"
      ]
    },
    {
      "cell_type": "markdown",
      "source": [
        "#*Python Fundamentals*"
      ],
      "metadata": {
        "id": "rvPwUv7aIdMC"
      }
    },
    {
      "cell_type": "markdown",
      "source": [
        "## **I. Objectives**\n",
        "This laboratory activity aims to introduce the basics of Python programming. By the end of this activity, the student should be able to:\n",
        "*italicized text*\n",
        "1.   Learn the workaround of programming using Google Colab\n",
        "2.   Be familiarized with fundamental programming elements such as: \n",
        "\n",
        "> • Variables and Data Types\n",
        "\n",
        "> • Operations\n",
        "\n",
        "> • Input and Output Operations\n",
        "\n",
        "> • Logic Control\n",
        "\n",
        "> • Iterables\n",
        "\n",
        "> • Functions\n",
        "\n",
        "3. Use this knowledge to create a basic interactive program"
      ],
      "metadata": {
        "id": "NRGYrl3M_8EZ"
      }
    },
    {
      "cell_type": "markdown",
      "source": [
        "## **II. Methods**\n",
        "\n",
        "\n",
        "*  Google Colaboratory or Google Colab will be utilized for this activity and for the rest of semester.\n",
        "\n",
        "\n",
        "> Colaboratory or 'Colab', a free product of Google Research is a Jupyter notebook service and is created for machine learning, education, and data analysis which allows everyone to write and execute python code through a browser [1].\n",
        "\n",
        "\n",
        "*   Deliverables for Basic Python Programming:\n",
        "\n",
        "\n",
        "> Analyze and design how the program should run\n",
        "\n",
        "\n",
        "> Use the appropriate variables acoording to their function.\n",
        "\n",
        "\n",
        "> Run the program\n",
        "\n",
        "\n",
        "> Troubleshoot run errors (if any)\n",
        "\n",
        "\n",
        "> Finished Program - An interactive grade computation program\n",
        "\n",
        "\n",
        "\n",
        "\n",
        "\n",
        "\n",
        "\n",
        "\n",
        "\n",
        "\n",
        "\n",
        "\n",
        "\n",
        "\n",
        "\n",
        "\n",
        "\n",
        "\n",
        "\n",
        "\n",
        "\n"
      ],
      "metadata": {
        "id": "A6ZQ3ldzQNbx"
      }
    },
    {
      "cell_type": "markdown",
      "source": [
        "### Variables and Data Types\n",
        "**Variable** - stores a value in a program or a unique identifier for a value. Variables have two parts separated by an equal (=) sign. The first part refers as the label which is the one used in the suceeding operations or functions, while the second part is known as the value which can be a character or a number assigned to the variable [2].\n",
        "\n",
        "**Data Types** - refers to the calssification or categorization of data items. It represents the kind of value that determines what operation can be performed on a particular data. There are five (5) standard data type in Python which are: Numeric, Sequence Type, Boolean, Set, and Dictionary. In this activity, three data types are demonstrated: integer, float (both under the numeric data type), and strings which is under the sequence type [3]. The code 'type(*variable*)' is entered in order to identify what data type it is.\n"
      ],
      "metadata": {
        "id": "CtFD-rN8BF74"
      }
    },
    {
      "cell_type": "markdown",
      "source": [
        "\n",
        "\n",
        "\n",
        "---\n",
        "\n",
        "\n",
        "*   INTEGER (int):\n",
        "\n",
        "> an integer contains positive or negative whole numbers. In Python, there is no limit as to how long a value for an integer can be as long as it is a whole number without a fraction or decimal.\n",
        "\n",
        "\n",
        "\n",
        "\n",
        "---\n",
        "\n"
      ],
      "metadata": {
        "id": "_UcPv5zEdByn"
      }
    },
    {
      "cell_type": "code",
      "source": [
        "x=9\n",
        "a,b=7,-4\n",
        "a"
      ],
      "metadata": {
        "id": "W5fukfnWAXRv",
        "colab": {
          "base_uri": "https://localhost:8080/"
        },
        "outputId": "44733824-dd4e-4690-e8a0-e8d7d693115a"
      },
      "execution_count": null,
      "outputs": [
        {
          "output_type": "execute_result",
          "data": {
            "text/plain": [
              "7"
            ]
          },
          "metadata": {},
          "execution_count": 14
        }
      ]
    },
    {
      "cell_type": "code",
      "source": [
        "type(x)"
      ],
      "metadata": {
        "colab": {
          "base_uri": "https://localhost:8080/"
        },
        "id": "wik90XAzBWa2",
        "outputId": "5f88e7db-c637-4b2f-91dc-78476fa523e7"
      },
      "execution_count": null,
      "outputs": [
        {
          "output_type": "execute_result",
          "data": {
            "text/plain": [
              "int"
            ]
          },
          "metadata": {},
          "execution_count": 2
        }
      ]
    },
    {
      "cell_type": "markdown",
      "source": [
        "\n",
        "\n",
        "\n",
        "---\n",
        "\n",
        "\n",
        "*   FLOAT (float):\n",
        "\n",
        "> a float is a real number specified by a decimal point [3].\n",
        "\n",
        "\n",
        "---\n",
        "\n",
        "\n",
        "\n"
      ],
      "metadata": {
        "id": "yaoUMgYreznf"
      }
    },
    {
      "cell_type": "code",
      "source": [
        "y=6.0\n",
        "type(y)"
      ],
      "metadata": {
        "colab": {
          "base_uri": "https://localhost:8080/"
        },
        "id": "-KiMk524BpwW",
        "outputId": "3ec824d7-f79f-44f4-bb27-b6c313de88ce"
      },
      "execution_count": null,
      "outputs": [
        {
          "output_type": "execute_result",
          "data": {
            "text/plain": [
              "float"
            ]
          },
          "metadata": {},
          "execution_count": 15
        }
      ]
    },
    {
      "cell_type": "code",
      "source": [
        "x=float(x)\n",
        "type(x)"
      ],
      "metadata": {
        "colab": {
          "base_uri": "https://localhost:8080/"
        },
        "id": "KZanabGvBvPk",
        "outputId": "99ad62c9-bf22-45a6-b3aa-9f55952d5f23"
      },
      "execution_count": null,
      "outputs": [
        {
          "output_type": "execute_result",
          "data": {
            "text/plain": [
              "float"
            ]
          },
          "metadata": {},
          "execution_count": 4
        }
      ]
    },
    {
      "cell_type": "markdown",
      "source": [
        "\n",
        "\n",
        "---\n",
        "\n",
        "\n",
        "\n",
        "*   STRING (str):\n",
        "\n",
        "> string refers to an arrays of bytes representing Unicode characters. It is a collection of one or more characters put in a single, double, or triple quotes [3]. \n",
        "\n",
        "\n",
        "\n",
        "---\n",
        "\n",
        "\n",
        "\n"
      ],
      "metadata": {
        "id": "J1vKVPAmfW0Y"
      }
    },
    {
      "cell_type": "code",
      "source": [
        "s,t,u=\"0\",\"1\",'one'\n",
        "type(u)"
      ],
      "metadata": {
        "colab": {
          "base_uri": "https://localhost:8080/"
        },
        "id": "lsw9Yt5HCD-Q",
        "outputId": "d85b2220-2e5c-4d99-e43b-7f23e4f6f1e4"
      },
      "execution_count": null,
      "outputs": [
        {
          "output_type": "execute_result",
          "data": {
            "text/plain": [
              "str"
            ]
          },
          "metadata": {},
          "execution_count": 5
        }
      ]
    },
    {
      "cell_type": "code",
      "source": [
        "s_int=int(s)\n",
        "s_int"
      ],
      "metadata": {
        "colab": {
          "base_uri": "https://localhost:8080/"
        },
        "id": "obeXU9m5CX5l",
        "outputId": "dedc6be4-dd0f-4871-aa16-88ae7b2be320"
      },
      "execution_count": null,
      "outputs": [
        {
          "output_type": "execute_result",
          "data": {
            "text/plain": [
              "0"
            ]
          },
          "metadata": {},
          "execution_count": 6
        }
      ]
    },
    {
      "cell_type": "markdown",
      "source": [
        "###Operators\n",
        "\n",
        "-- Operators are used to perform operations on variables and values. Python divides these operators into 7 groups which are: [4] \n",
        "\n",
        "\n",
        "> - Arithmetic Operators\n",
        "\n",
        "> - Assignment Operators\n",
        "\n",
        "> - Comparison Operators\n",
        "\n",
        "> - Logical Operators\n",
        "\n",
        "> - Identity Operators\n",
        "\n",
        "> - Membership Operators\n",
        "\n",
        "> - Bitwise Operators\n",
        "\n",
        "\n",
        "In this activity, four operators are demonstrated: Arithmetic, Assignment, Comparison, and Logical operators."
      ],
      "metadata": {
        "id": "eIwGR6UECzIh"
      }
    },
    {
      "cell_type": "markdown",
      "source": [
        "#### Arithmetic Operators\n",
        "\n",
        "> these are used to perform common mathematical operations with numerical values. There are seven (7) operations under arithmetic operators which are: [4]\n",
        "\n",
        "\n",
        "![Screenshot 2022-02-22 120513.png](data:image/png;base64,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)\n",
        "\n",
        "Examples of these operations are demonstrated below:\n",
        "\n",
        "\n",
        "---\n",
        "\n",
        "\n",
        "\n"
      ],
      "metadata": {
        "id": "ol0Yf21AkliL"
      }
    },
    {
      "cell_type": "code",
      "source": [
        "a,b,c,d=4.0,-0.7,5,32"
      ],
      "metadata": {
        "id": "NQn_iYFcpk_N"
      },
      "execution_count": null,
      "outputs": []
    },
    {
      "cell_type": "code",
      "source": [
        "#Addition\n",
        "s=a+b\n",
        "s"
      ],
      "metadata": {
        "id": "TqHiLx-nprtY",
        "colab": {
          "base_uri": "https://localhost:8080/"
        },
        "outputId": "d9fbd136-68a5-4f0e-eb76-b31db244a3fd"
      },
      "execution_count": null,
      "outputs": [
        {
          "output_type": "execute_result",
          "data": {
            "text/plain": [
              "3.3"
            ]
          },
          "metadata": {},
          "execution_count": 17
        }
      ]
    },
    {
      "cell_type": "code",
      "source": [
        "#Subtraction\n",
        "D=b-d\n",
        "D"
      ],
      "metadata": {
        "colab": {
          "base_uri": "https://localhost:8080/"
        },
        "id": "U_7whmxbrgce",
        "outputId": "feee1be2-0183-4360-bd4a-91f5f18b03aa"
      },
      "execution_count": null,
      "outputs": [
        {
          "output_type": "execute_result",
          "data": {
            "text/plain": [
              "-32.7"
            ]
          },
          "metadata": {},
          "execution_count": 18
        }
      ]
    },
    {
      "cell_type": "code",
      "source": [
        "#Multiplication\n",
        "P=a*d\n",
        "P"
      ],
      "metadata": {
        "colab": {
          "base_uri": "https://localhost:8080/"
        },
        "id": "ctcY-bH6roy5",
        "outputId": "77f7a53e-9686-4f81-ac87-48094d4c640f"
      },
      "execution_count": null,
      "outputs": [
        {
          "output_type": "execute_result",
          "data": {
            "text/plain": [
              "128.0"
            ]
          },
          "metadata": {},
          "execution_count": 19
        }
      ]
    },
    {
      "cell_type": "code",
      "source": [
        "#Division\n",
        "Q=c/a\n",
        "Q"
      ],
      "metadata": {
        "colab": {
          "base_uri": "https://localhost:8080/"
        },
        "id": "PbCoJkaZrwSH",
        "outputId": "aeb2f058-461c-4d5e-f0ab-bbadf71ad138"
      },
      "execution_count": null,
      "outputs": [
        {
          "output_type": "execute_result",
          "data": {
            "text/plain": [
              "1.25"
            ]
          },
          "metadata": {},
          "execution_count": 20
        }
      ]
    },
    {
      "cell_type": "code",
      "source": [
        "#FloorDivision\n",
        "Fq=a//b\n",
        "Fq"
      ],
      "metadata": {
        "colab": {
          "base_uri": "https://localhost:8080/"
        },
        "id": "T-TfgViZr0kF",
        "outputId": "f64c6151-a5a4-43ea-e4dc-84df7e792cf1"
      },
      "execution_count": null,
      "outputs": [
        {
          "output_type": "execute_result",
          "data": {
            "text/plain": [
              "-6.0"
            ]
          },
          "metadata": {},
          "execution_count": 21
        }
      ]
    },
    {
      "cell_type": "code",
      "source": [
        "#Exponentiation\n",
        "E=a**b\n",
        "E"
      ],
      "metadata": {
        "colab": {
          "base_uri": "https://localhost:8080/"
        },
        "id": "28S5Bz4sr6Sd",
        "outputId": "e366f630-8a04-4a51-d842-112f0979313d"
      },
      "execution_count": null,
      "outputs": [
        {
          "output_type": "execute_result",
          "data": {
            "text/plain": [
              "0.37892914162759955"
            ]
          },
          "metadata": {},
          "execution_count": 22
        }
      ]
    },
    {
      "cell_type": "code",
      "source": [
        "#Modulus\n",
        "mod=a%d\n",
        "mod"
      ],
      "metadata": {
        "colab": {
          "base_uri": "https://localhost:8080/"
        },
        "id": "5uavWZN6r--0",
        "outputId": "c8dd0801-ddf1-4731-a167-4dda5e3a3ca2"
      },
      "execution_count": null,
      "outputs": [
        {
          "output_type": "execute_result",
          "data": {
            "text/plain": [
              "4.0"
            ]
          },
          "metadata": {},
          "execution_count": 23
        }
      ]
    },
    {
      "cell_type": "markdown",
      "source": [
        "#### Assignment Operators\n",
        "\n",
        "\n",
        "> these are operators used to assign values to variables. There are 13 assignment operators. These are: [4]\n",
        "\n",
        "![Screenshot 2022-02-22 125654.png](data:image/png;base64,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)\n",
        "\n",
        "Four (4) of these operations are demonstrated below:\n",
        "\n",
        "\n",
        "---\n",
        "\n"
      ],
      "metadata": {
        "id": "K-xZMLw0JnNJ"
      }
    },
    {
      "cell_type": "code",
      "source": [
        "G, H, J, K = 8, 600, 3, 5"
      ],
      "metadata": {
        "id": "7FDRRq5cJ50Y"
      },
      "execution_count": null,
      "outputs": []
    },
    {
      "cell_type": "code",
      "source": [
        "G+=a\n",
        "G"
      ],
      "metadata": {
        "colab": {
          "base_uri": "https://localhost:8080/"
        },
        "id": "WNbfpj__J9Jm",
        "outputId": "c184cf95-8384-4cac-e333-84900029588d"
      },
      "execution_count": null,
      "outputs": [
        {
          "output_type": "execute_result",
          "data": {
            "text/plain": [
              "12.0"
            ]
          },
          "metadata": {},
          "execution_count": 25
        }
      ]
    },
    {
      "cell_type": "code",
      "source": [
        "H-=d\n",
        "H"
      ],
      "metadata": {
        "colab": {
          "base_uri": "https://localhost:8080/"
        },
        "id": "RpSwg9yhKXLw",
        "outputId": "2049b443-0e76-41f5-e25d-a5d8c6bb8f32"
      },
      "execution_count": null,
      "outputs": [
        {
          "output_type": "execute_result",
          "data": {
            "text/plain": [
              "568"
            ]
          },
          "metadata": {},
          "execution_count": 26
        }
      ]
    },
    {
      "cell_type": "code",
      "source": [
        "J*=2\n",
        "J"
      ],
      "metadata": {
        "colab": {
          "base_uri": "https://localhost:8080/"
        },
        "id": "AwM-DldBKg00",
        "outputId": "95892cca-b0e9-42d1-bf56-9f668ed9676f"
      },
      "execution_count": null,
      "outputs": [
        {
          "output_type": "execute_result",
          "data": {
            "text/plain": [
              "6"
            ]
          },
          "metadata": {},
          "execution_count": 27
        }
      ]
    },
    {
      "cell_type": "code",
      "source": [
        "K**=3\n",
        "K"
      ],
      "metadata": {
        "colab": {
          "base_uri": "https://localhost:8080/"
        },
        "id": "oKRMfUnkLQ87",
        "outputId": "f734b667-2c8d-45ec-d6ad-3ec3a3564149"
      },
      "execution_count": null,
      "outputs": [
        {
          "output_type": "execute_result",
          "data": {
            "text/plain": [
              "125"
            ]
          },
          "metadata": {},
          "execution_count": 28
        }
      ]
    },
    {
      "cell_type": "markdown",
      "source": [
        "#### Comparison Operators\n",
        "\n",
        "\n",
        "\n",
        "> These kind of operators are used to compare two values and a True or False statement will be displayed depending on the variables and operators used. [4]\n",
        "\n",
        "![Screenshot 2022-02-22 130230.png](data:image/png;base64,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)\n",
        "\n",
        "These operations are demonstrated below:\n",
        "\n",
        "\n",
        "---\n",
        "\n"
      ],
      "metadata": {
        "id": "rtHjxH1KLY5j"
      }
    },
    {
      "cell_type": "code",
      "source": [
        "res_1, res_2, res_3=1,2.0,\"1\"\n",
        "true_val=1.0"
      ],
      "metadata": {
        "id": "7rZpZ8UnLbbP"
      },
      "execution_count": null,
      "outputs": []
    },
    {
      "cell_type": "code",
      "source": [
        "#Equality\n",
        "res_1==true_val"
      ],
      "metadata": {
        "colab": {
          "base_uri": "https://localhost:8080/"
        },
        "id": "-C7JeBfMLkVF",
        "outputId": "a0d175f8-c2e3-4352-dbc8-e93ee0198723"
      },
      "execution_count": null,
      "outputs": [
        {
          "output_type": "execute_result",
          "data": {
            "text/plain": [
              "True"
            ]
          },
          "metadata": {},
          "execution_count": 21
        }
      ]
    },
    {
      "cell_type": "code",
      "source": [
        "#Non-equality\n",
        "res_2!=true_val"
      ],
      "metadata": {
        "colab": {
          "base_uri": "https://localhost:8080/"
        },
        "id": "c6oagNFDLsxb",
        "outputId": "e2089bea-227d-4f9c-9c2e-0136d1fe30bc"
      },
      "execution_count": null,
      "outputs": [
        {
          "output_type": "execute_result",
          "data": {
            "text/plain": [
              "True"
            ]
          },
          "metadata": {},
          "execution_count": 22
        }
      ]
    },
    {
      "cell_type": "code",
      "source": [
        "#Inequality\n",
        "t1=res_1>res_2\n",
        "t2=res_1<res_2/2\n",
        "t3=res_1>=res_2/2\n",
        "t4=res_1<=res_2\n",
        "t4"
      ],
      "metadata": {
        "colab": {
          "base_uri": "https://localhost:8080/"
        },
        "id": "jONytl-nL1GQ",
        "outputId": "94949f3e-e117-41ec-b4d2-bffa8acd2342"
      },
      "execution_count": null,
      "outputs": [
        {
          "output_type": "execute_result",
          "data": {
            "text/plain": [
              "True"
            ]
          },
          "metadata": {},
          "execution_count": 23
        }
      ]
    },
    {
      "cell_type": "markdown",
      "source": [
        "#### Logical Operators\n",
        "\n",
        "\n",
        "\n",
        "> Logical operators are used to combine conditional statements. A True or False statement will also be displayed depending on the condition set by the programmer. In order to analyze this, a truth table or logic table can be used. An exampl of this is in the image attached below:\n",
        "\n",
        "![truth-table-of-a-conjunction-702x1024.gif](data:image/gif;base64,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)\n",
        "\n",
        "Some conditions are demonstrated below\n",
        "\n",
        "\n",
        "---\n",
        "\n"
      ],
      "metadata": {
        "id": "IxauAa8YMPKP"
      }
    },
    {
      "cell_type": "code",
      "source": [
        "res_1==true_val"
      ],
      "metadata": {
        "colab": {
          "base_uri": "https://localhost:8080/"
        },
        "id": "Jm1Ig2cvMWh2",
        "outputId": "6d29409d-8a75-47d8-f760-440e9a77b9dd"
      },
      "execution_count": null,
      "outputs": [
        {
          "output_type": "execute_result",
          "data": {
            "text/plain": [
              "True"
            ]
          },
          "metadata": {},
          "execution_count": 24
        }
      ]
    },
    {
      "cell_type": "code",
      "source": [
        "res_1 is true_val"
      ],
      "metadata": {
        "colab": {
          "base_uri": "https://localhost:8080/"
        },
        "id": "mOIKBlJEMbil",
        "outputId": "caa87202-c18b-4af0-f69f-7b659b4d7d32"
      },
      "execution_count": null,
      "outputs": [
        {
          "output_type": "execute_result",
          "data": {
            "text/plain": [
              "False"
            ]
          },
          "metadata": {},
          "execution_count": 25
        }
      ]
    },
    {
      "cell_type": "code",
      "source": [
        "res_1 is not true_val"
      ],
      "metadata": {
        "colab": {
          "base_uri": "https://localhost:8080/"
        },
        "id": "aJCd9iBNMfM9",
        "outputId": "502e0814-cd46-46fa-fbfb-625f0bb9fe67"
      },
      "execution_count": null,
      "outputs": [
        {
          "output_type": "execute_result",
          "data": {
            "text/plain": [
              "True"
            ]
          },
          "metadata": {},
          "execution_count": 26
        }
      ]
    },
    {
      "cell_type": "code",
      "source": [
        "p, q=True, False\n",
        "conj=p and q\n",
        "conj"
      ],
      "metadata": {
        "colab": {
          "base_uri": "https://localhost:8080/"
        },
        "id": "RUNVhs_BMi0b",
        "outputId": "1a4fca52-f215-467f-dfd7-523437c1f2d5"
      },
      "execution_count": null,
      "outputs": [
        {
          "output_type": "execute_result",
          "data": {
            "text/plain": [
              "False"
            ]
          },
          "metadata": {},
          "execution_count": 27
        }
      ]
    },
    {
      "cell_type": "code",
      "source": [
        "p, q=True, False\n",
        "disj=p or q\n",
        "disj"
      ],
      "metadata": {
        "colab": {
          "base_uri": "https://localhost:8080/"
        },
        "id": "2TbNfVVlNVHC",
        "outputId": "8a11051e-989b-44a2-a2f4-a279c36ec988"
      },
      "execution_count": null,
      "outputs": [
        {
          "output_type": "execute_result",
          "data": {
            "text/plain": [
              "True"
            ]
          },
          "metadata": {},
          "execution_count": 28
        }
      ]
    },
    {
      "cell_type": "code",
      "source": [
        "p, q=True, False\n",
        "nand=not(p and q)\n",
        "nand"
      ],
      "metadata": {
        "colab": {
          "base_uri": "https://localhost:8080/"
        },
        "id": "-GVcByxnNaDf",
        "outputId": "eaa2c2e5-4e61-48a1-e24c-15287a7f8771"
      },
      "execution_count": null,
      "outputs": [
        {
          "output_type": "execute_result",
          "data": {
            "text/plain": [
              "True"
            ]
          },
          "metadata": {},
          "execution_count": 29
        }
      ]
    },
    {
      "cell_type": "code",
      "source": [
        "p, q=True, False\n",
        "xor=(not p and q) or (p and not q)\n",
        "xor"
      ],
      "metadata": {
        "colab": {
          "base_uri": "https://localhost:8080/"
        },
        "id": "pr3W-gZzOgwp",
        "outputId": "de01c3d5-7c0d-4048-eb83-4a28adec8ec0"
      },
      "execution_count": null,
      "outputs": [
        {
          "output_type": "execute_result",
          "data": {
            "text/plain": [
              "True"
            ]
          },
          "metadata": {},
          "execution_count": 30
        }
      ]
    },
    {
      "cell_type": "markdown",
      "source": [
        "###I/O\n",
        "\n",
        "\n",
        "\n",
        "> I/O refers to input and output in Python. In this section, all the previous topics are now put into application. The variables, data types and commands can be seen and there is already a desired format for the output. The 'input' command when the program is run, will take manual input from the user and the 'print' function prints the input as an output.\n",
        "\n"
      ],
      "metadata": {
        "id": "beyuC3YhPEw5"
      }
    },
    {
      "cell_type": "code",
      "source": [
        "print(\"Hello World\")"
      ],
      "metadata": {
        "colab": {
          "base_uri": "https://localhost:8080/"
        },
        "id": "52cWgu9fPIp8",
        "outputId": "13ba8395-19eb-4ac6-f2bf-3b9f17af0e3f"
      },
      "execution_count": null,
      "outputs": [
        {
          "output_type": "stream",
          "name": "stdout",
          "text": [
            "Hello World\n"
          ]
        }
      ]
    },
    {
      "cell_type": "code",
      "source": [
        "cnt=1"
      ],
      "metadata": {
        "id": "HKH5j_9kPNWE"
      },
      "execution_count": null,
      "outputs": []
    },
    {
      "cell_type": "code",
      "source": [
        "string=\"Hello World\"\n",
        "print(string,\", Current run count is:\",cnt)\n",
        "cnt+=1"
      ],
      "metadata": {
        "colab": {
          "base_uri": "https://localhost:8080/"
        },
        "id": "RDFuGMM1PQIN",
        "outputId": "43a291ba-c3ed-4a09-f138-a8f2a28c7e2f"
      },
      "execution_count": null,
      "outputs": [
        {
          "output_type": "stream",
          "name": "stdout",
          "text": [
            "Hello World , Current run count is: 1\n"
          ]
        }
      ]
    },
    {
      "cell_type": "code",
      "source": [
        "print(f\"(string), Current count is: {cnt}\")"
      ],
      "metadata": {
        "colab": {
          "base_uri": "https://localhost:8080/"
        },
        "id": "Mljz0mPOPikW",
        "outputId": "78e6bce0-c76b-4ec5-e756-fc730c603717"
      },
      "execution_count": null,
      "outputs": [
        {
          "output_type": "stream",
          "name": "stdout",
          "text": [
            "(string), Current count is: 2\n"
          ]
        }
      ]
    },
    {
      "cell_type": "code",
      "source": [
        "sem_grade=95.010522111099\n",
        "name=\" Grace\"\n",
        "print(\"Hello{}, your semestral grade is: {}\".format(name, sem_grade))"
      ],
      "metadata": {
        "colab": {
          "base_uri": "https://localhost:8080/"
        },
        "id": "wLdS5QquQDPL",
        "outputId": "40e470ca-739d-4bc9-f91f-703ff27a0b04"
      },
      "execution_count": null,
      "outputs": [
        {
          "output_type": "stream",
          "name": "stdout",
          "text": [
            "Hello Grace, your semestral grade is: 95.010522111099\n"
          ]
        }
      ]
    },
    {
      "cell_type": "code",
      "source": [
        "w_pg, w_mg, w_fg = 0.3, 0.3, 0.4\n",
        "print(\"The weights of your semestral grades are:\\\n",
        "\\n\\t{:.2%} for Prelims\\\n",
        "\\n\\t{:.2%} for Midterms, and\\\n",
        "\\n\\t{:.2%} for Finals.\".format(w_pg, w_mg, w_fg))"
      ],
      "metadata": {
        "colab": {
          "base_uri": "https://localhost:8080/"
        },
        "id": "sfv43Gxe_M_s",
        "outputId": "e53c8332-fb39-41ae-d0b6-3b2f690f4165"
      },
      "execution_count": null,
      "outputs": [
        {
          "output_type": "stream",
          "name": "stdout",
          "text": [
            "The weights of your semestral grades are:\n",
            "\t30.00% for Prelims\n",
            "\t30.00% for Midterms, and\n",
            "\t40.00% for Finals.\n"
          ]
        }
      ]
    },
    {
      "cell_type": "code",
      "source": [
        "x = input(\"enter a number: \")\n",
        "x"
      ],
      "metadata": {
        "id": "eNy3TVeoDLaN",
        "colab": {
          "base_uri": "https://localhost:8080/",
          "height": 53
        },
        "outputId": "b7de3fd3-0d2a-434c-b3a8-b98be251c150"
      },
      "execution_count": null,
      "outputs": [
        {
          "name": "stdout",
          "output_type": "stream",
          "text": [
            "enter a number: 3\n"
          ]
        },
        {
          "output_type": "execute_result",
          "data": {
            "application/vnd.google.colaboratory.intrinsic+json": {
              "type": "string"
            },
            "text/plain": [
              "'3'"
            ]
          },
          "metadata": {},
          "execution_count": 1
        }
      ]
    },
    {
      "cell_type": "code",
      "source": [
        "name = input(\"Name: \")\n",
        "pg = input(\"Enter prelim grade: \")\n",
        "mg = input(\"Enter midterm grade: \")\n",
        "fg = input(\"Enter finals grade: \")\n",
        "sem_grade = 90\n",
        "print(\"Hello {}, your semestral grade is: {}\".format(name, sem_grade))"
      ],
      "metadata": {
        "id": "kAwgqJL0DjT3",
        "colab": {
          "base_uri": "https://localhost:8080/"
        },
        "outputId": "6c14a91e-5d5f-4bd1-88c6-d66494d86677"
      },
      "execution_count": null,
      "outputs": [
        {
          "output_type": "stream",
          "name": "stdout",
          "text": [
            "Name: Grace\n",
            "Enter prelim grade: 90\n",
            "Enter midterm grade: 92\n",
            "Enter finals grade: 99\n",
            "Hello Grace, your semestral grade is: 90\n"
          ]
        }
      ]
    },
    {
      "cell_type": "markdown",
      "source": [
        "###Flow Control\n",
        "\n",
        "\n",
        "> A program’s control flow is the order in which the program’s code executes. The control flow of a Python program is regulated by conditional statements, loops, and function calls [8].\n",
        "\n"
      ],
      "metadata": {
        "id": "A_jAO1HVIGwU"
      }
    },
    {
      "cell_type": "markdown",
      "source": [
        "###Looping Statements\n",
        "\n",
        "\n",
        "\n",
        "> Looping statements allow the user/programmer to execute a statement or group of statements multiple times. A loop statement is illustrated in the diagram below: [5]\n",
        "\n",
        "![Screenshot 2022-02-22 134112.png](data:image/png;base64,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)\n",
        "\n",
        "There are different ways to execute the loop statements and although providing essentially similar functions, the difference lies in the syntax and condition checking time [6]."
      ],
      "metadata": {
        "id": "1QattWG2FHkp"
      }
    },
    {
      "cell_type": "markdown",
      "source": [
        "\n",
        "\n",
        "---\n",
        "\n",
        "\n",
        "####While\n",
        "\n",
        "\n",
        "*   In python, while loop is used to execute a block of statements repeatedly until a given condition is satisfied. And when the condition becomes false, the line immediately after the loop in the program is executed [6].\n",
        "\n",
        "\n",
        "---\n",
        "\n",
        "\n",
        "\n"
      ],
      "metadata": {
        "id": "AFIx7IsNFONu"
      }
    },
    {
      "cell_type": "code",
      "source": [
        "## while loops\n",
        "i, j = 0, 10\n",
        "while(i<=j):\n",
        "  print(f\"{i}\\t|{j}\")\n",
        "  i+=1"
      ],
      "metadata": {
        "id": "-8pHRk-WFSOo",
        "colab": {
          "base_uri": "https://localhost:8080/"
        },
        "outputId": "f0580d75-c209-40bc-8276-ae6d19eefe47"
      },
      "execution_count": null,
      "outputs": [
        {
          "output_type": "stream",
          "name": "stdout",
          "text": [
            "0\t|10\n",
            "1\t|10\n",
            "2\t|10\n",
            "3\t|10\n",
            "4\t|10\n",
            "5\t|10\n",
            "6\t|10\n",
            "7\t|10\n",
            "8\t|10\n",
            "9\t|10\n",
            "10\t|10\n"
          ]
        }
      ]
    },
    {
      "cell_type": "markdown",
      "source": [
        "\n",
        "\n",
        "---\n",
        "\n",
        "\n",
        "####*For*\n",
        "\n",
        "\n",
        "\n",
        "*   A for loop is used for iterating over a sequence (that is either a list, a tuple, a dictionary, a set, or a string). Loop continues until the last item in the sequence is reached [7].\n",
        "\n",
        "\n",
        "\n",
        "---\n",
        "\n"
      ],
      "metadata": {
        "id": "XDVZxzIaGcJ7"
      }
    },
    {
      "cell_type": "code",
      "source": [
        "i=0\n",
        "for i in range(10):\n",
        "  print(i)"
      ],
      "metadata": {
        "id": "zsZAWmmVG8f-",
        "colab": {
          "base_uri": "https://localhost:8080/"
        },
        "outputId": "c2f3d3da-159f-4d3a-ec47-92206bbe0a3b"
      },
      "execution_count": null,
      "outputs": [
        {
          "output_type": "stream",
          "name": "stdout",
          "text": [
            "0\n",
            "1\n",
            "2\n",
            "3\n",
            "4\n",
            "5\n",
            "6\n",
            "7\n",
            "8\n",
            "9\n"
          ]
        }
      ]
    },
    {
      "cell_type": "code",
      "source": [
        "playlist = [\"Lupang Hinirang\", \"Twinkle Twinkle Little Star\", \"Alphabet Song\"]\n",
        "print('Now Playing:\\n')\n",
        "for song in playlist:\n",
        "  print(song)"
      ],
      "metadata": {
        "id": "myEfO-23Hp2C",
        "colab": {
          "base_uri": "https://localhost:8080/"
        },
        "outputId": "93150ae4-58e1-4e18-c009-1489b53d0078"
      },
      "execution_count": null,
      "outputs": [
        {
          "output_type": "stream",
          "name": "stdout",
          "text": [
            "Now Playing:\n",
            "\n",
            "Lupang Hinirang\n",
            "Twinkle Twinkle Little Star\n",
            "Alphabet Song\n"
          ]
        }
      ]
    },
    {
      "cell_type": "markdown",
      "source": [
        "###Conditional Statements\n",
        "\n",
        "\n",
        "> Conditional statements are used to automate decision-making in a programming language. Python evaluates the code to see if the specified conditions are met. The conditions are evaluated and processed as true or false. If this is found to be true, the program is run as needed. If the condition is found to be false, the statement following the If condition is executed [9].\n",
        "\n"
      ],
      "metadata": {
        "id": "TTxoGmhmIMLc"
      }
    },
    {
      "cell_type": "code",
      "source": [
        "numeral1, numeral2 = 12, 12\n",
        "if(numeral1 == numeral2):\n",
        "  print(\"Equal\")\n",
        "elif(numeral1>numeral2):\n",
        "  print(\"A is greater than B\")\n",
        "else:\n",
        "  print(\"Other condition\")"
      ],
      "metadata": {
        "id": "mOZsJYESIV4H",
        "colab": {
          "base_uri": "https://localhost:8080/"
        },
        "outputId": "0aedfd1a-1851-49b4-e599-a367fe135fde"
      },
      "execution_count": null,
      "outputs": [
        {
          "output_type": "stream",
          "name": "stdout",
          "text": [
            "Equal\n"
          ]
        }
      ]
    },
    {
      "cell_type": "code",
      "source": [
        "numeral1, numeral2 = 13, 12\n",
        "if(numeral1 == numeral2):\n",
        "  print(\"Equal\")\n",
        "elif(numeral1>numeral2):\n",
        "  print(\"A is greater than B\")\n",
        "else:\n",
        "  print(\"Other condition\")"
      ],
      "metadata": {
        "colab": {
          "base_uri": "https://localhost:8080/"
        },
        "id": "S3jEuQ2j_SbW",
        "outputId": "eb282da4-667a-4499-d0bb-1d5053058107"
      },
      "execution_count": null,
      "outputs": [
        {
          "output_type": "stream",
          "name": "stdout",
          "text": [
            "A is greater than B\n"
          ]
        }
      ]
    },
    {
      "cell_type": "code",
      "source": [
        "numeral1, numeral2 = 10, 12\n",
        "if(numeral1 == numeral2):\n",
        "  print(\"Equal\")\n",
        "elif(numeral1>numeral2):\n",
        "  print(\"A is greater than B\")\n",
        "else:\n",
        "  print(\"Other condition\")"
      ],
      "metadata": {
        "colab": {
          "base_uri": "https://localhost:8080/"
        },
        "id": "iOYua-wl_XI3",
        "outputId": "8882c573-6cad-41f0-ff77-307286e1cb78"
      },
      "execution_count": null,
      "outputs": [
        {
          "output_type": "stream",
          "name": "stdout",
          "text": [
            "Other condition\n"
          ]
        }
      ]
    },
    {
      "cell_type": "markdown",
      "source": [
        "### Functions\n",
        "\n",
        "\n",
        "> A function is a block of code which only runs when it is called. Data, known as parameters, can be passed into a function. A function can return data as a result [10].\n",
        "\n"
      ],
      "metadata": {
        "id": "JP7AMt8zJee0"
      }
    },
    {
      "cell_type": "code",
      "source": [
        "def delete_user (userid):\n",
        "  print(\"Successfully deleted user: {}\".format(userid))\n",
        "def delete_all_users ():\n",
        "  print(\"Successfully deleted all users\")\n",
        "\n",
        "userid = 85\n",
        "delete_user(85)\n",
        "delete_all_users()"
      ],
      "metadata": {
        "id": "VcszFXdGJ0i3",
        "colab": {
          "base_uri": "https://localhost:8080/"
        },
        "outputId": "5589f345-4ddf-4e0f-d473-99d8660db861"
      },
      "execution_count": null,
      "outputs": [
        {
          "output_type": "stream",
          "name": "stdout",
          "text": [
            "Successfully deleted user: 85\n",
            "Successfully deleted all users\n"
          ]
        }
      ]
    },
    {
      "cell_type": "code",
      "source": [
        "def add(addend1, addend2):\n",
        "  print(\"The sum of addend1 and addend2 is:\")\n",
        "  return addend1 + addend2\n",
        "\n",
        "def power_of_base2(exponent):\n",
        "  return 2**exponent\n",
        "\n",
        "addend1 = 10\n",
        "addend2 = 40\n",
        "exponent = 7\n",
        "\n",
        "#add(addend1, addend2)\n",
        "power_of_base2(exponent)"
      ],
      "metadata": {
        "id": "wRsr-THsK1Mg",
        "colab": {
          "base_uri": "https://localhost:8080/"
        },
        "outputId": "e9fb1c8e-7ed2-4ba7-f3d3-72d65430accf"
      },
      "execution_count": null,
      "outputs": [
        {
          "output_type": "execute_result",
          "data": {
            "text/plain": [
              "128"
            ]
          },
          "metadata": {},
          "execution_count": 8
        }
      ]
    },
    {
      "cell_type": "code",
      "source": [
        "add(addend1, addend2)"
      ],
      "metadata": {
        "id": "Sf6HD-U6NsbD",
        "colab": {
          "base_uri": "https://localhost:8080/"
        },
        "outputId": "35fa9fe8-9364-4ca1-f519-5510b11dc93c"
      },
      "execution_count": null,
      "outputs": [
        {
          "output_type": "stream",
          "name": "stdout",
          "text": [
            "The sum of addend1 and addend2 is:\n"
          ]
        },
        {
          "output_type": "execute_result",
          "data": {
            "text/plain": [
              "50"
            ]
          },
          "metadata": {},
          "execution_count": 13
        }
      ]
    },
    {
      "cell_type": "markdown",
      "source": [
        "## **III. Results**"
      ],
      "metadata": {
        "id": "oUqmZXepWLaV"
      }
    },
    {
      "cell_type": "markdown",
      "source": [
        "**GRADE EQUAL TO 70 - smiley face**"
      ],
      "metadata": {
        "id": "o6QkngZBXWjl"
      }
    },
    {
      "cell_type": "code",
      "source": [
        "name = input(\"Name: \")\n",
        "course = input(\"Course: \")\n",
        "pg = int(input(\"Enter prelim grade: \"))\n",
        "mg = int(input(\"Enter midterm grade: \"))\n",
        "fg = int(input(\"Enter finals grade: \"))\n",
        "x = pg + mg + fg\n",
        "a = x/3\n",
        "sem_grade = a\n",
        "print(\"Hello {} from {}, your semestral grade is: {:.2f}\".format(name, course, sem_grade))\n",
        "\n",
        "if(sem_grade == 70):\n",
        "  print(\"\\U0001F603\")\n",
        "elif(sem_grade>70):\n",
        "  print(\"\\U0001F606\")\n",
        "else:\n",
        "  print(\"\\U0001F62D\")"
      ],
      "metadata": {
        "colab": {
          "base_uri": "https://localhost:8080/"
        },
        "id": "Qxa5F64GV2TR",
        "outputId": "e0c3ce40-3c2e-42c4-aa04-73550c0deb1c"
      },
      "execution_count": null,
      "outputs": [
        {
          "output_type": "stream",
          "name": "stdout",
          "text": [
            "Name: Lance\n",
            "Course: BSME\n",
            "Enter prelim grade: 70\n",
            "Enter midterm grade: 65\n",
            "Enter finals grade: 75\n",
            "Hello Lance from BSME, your semestral grade is: 70.00\n",
            "😃\n"
          ]
        }
      ]
    },
    {
      "cell_type": "markdown",
      "source": [
        "**GRADE GREATER THAN 70 - laughing face**"
      ],
      "metadata": {
        "id": "8zreVYJgXgqW"
      }
    },
    {
      "cell_type": "code",
      "source": [
        "name = input(\"Name: \")\n",
        "course = input(\"Course: \")\n",
        "pg = int(input(\"Enter prelim grade: \"))\n",
        "mg = int(input(\"Enter midterm grade: \"))\n",
        "fg = int(input(\"Enter finals grade: \"))\n",
        "x = pg + mg + fg\n",
        "a = x/3\n",
        "sem_grade = a\n",
        "print(\"Hello {} from {}, your semestral grade is: {:.2f}\".format(name, course, sem_grade))\n",
        "\n",
        "if(sem_grade == 70):\n",
        "  print(\"\\U0001F603\")\n",
        "elif(sem_grade>70):\n",
        "  print(\"\\U0001F606\")\n",
        "else:\n",
        "  print(\"\\U0001F62D\")"
      ],
      "metadata": {
        "colab": {
          "base_uri": "https://localhost:8080/"
        },
        "id": "W2cTlbL5Wx7r",
        "outputId": "382f21a0-8008-4b3b-a559-fb705318096e"
      },
      "execution_count": null,
      "outputs": [
        {
          "output_type": "stream",
          "name": "stdout",
          "text": [
            "Name: Kate\n",
            "Course: BSCE\n",
            "Enter prelim grade: 89\n",
            "Enter midterm grade: 94\n",
            "Enter finals grade: 85\n",
            "Hello Kate from BSCE, your semestral grade is: 89.33\n",
            "😆\n"
          ]
        }
      ]
    },
    {
      "cell_type": "markdown",
      "source": [
        "**GRADE LESS THAN 70 - crying face**"
      ],
      "metadata": {
        "id": "ENeDVGC6Xy1g"
      }
    },
    {
      "cell_type": "code",
      "source": [
        "name = input(\"Name: \")\n",
        "course = input(\"Course: \")\n",
        "pg = int(input(\"Enter prelim grade: \"))\n",
        "mg = int(input(\"Enter midterm grade: \"))\n",
        "fg = int(input(\"Enter finals grade: \"))\n",
        "x = pg + mg + fg\n",
        "a = x/3\n",
        "sem_grade = a\n",
        "print(\"Hello {} from {}, your semestral grade is: {:.2f}\".format(name, course, sem_grade))\n",
        "\n",
        "if(sem_grade == 70):\n",
        "  print(\"\\U0001F603\")\n",
        "elif(sem_grade>70):\n",
        "  print(\"\\U0001F606\")\n",
        "else:\n",
        "  print(\"\\U0001F62D\")"
      ],
      "metadata": {
        "colab": {
          "base_uri": "https://localhost:8080/"
        },
        "id": "D4ttqQp6W-RB",
        "outputId": "8e1d8e5f-3776-4137-dbcd-38b59e88032b"
      },
      "execution_count": null,
      "outputs": [
        {
          "output_type": "stream",
          "name": "stdout",
          "text": [
            "Name: Jericho\n",
            "Course: BSChE\n",
            "Enter prelim grade: 67\n",
            "Enter midterm grade: 58\n",
            "Enter finals grade: 70\n",
            "Hello Jericho from BSChE, your semestral grade is: 65.00\n",
            "😭\n"
          ]
        }
      ]
    },
    {
      "cell_type": "markdown",
      "source": [
        "## **IV. Conclusion**\n",
        "\n",
        "\n",
        "\n",
        "> In this experiment, I have learned and understood the basics of programming and how each function works. Having prior knowledge about C++, I noticed differences and similarities between that and Python. I found it easier to use Python because it's more straightforward and less complicated than C++. During the activity/lecture, there was a lot of things that I picked up to be better in programming. First is to be mindful in setting variables and values as these are the first things that if you get wrong, will lead to a number of errors. Second is to make sure to run the codes each time to ensure that the correct values were set before running the program. Third is to always analyze what your desired output is and to be careful in choosing functions or commands as these are all crucial in running the program. Overall, it is therefore concluded that this activity has been a success in achieving its objectives in teaching the students the fundamental of Python programming. \n"
      ],
      "metadata": {
        "id": "CINKXr2nIwbU"
      }
    },
    {
      "cell_type": "markdown",
      "source": [
        "## **V. References**\n",
        "\n",
        "References\n",
        "\n",
        "[1]\t“Colaboratory: Frequently Asked Questions,” Google.com. [Online]. Available: https://research.google.com/colaboratory/faq.html. [Accessed: 22-Feb-2022].\n",
        "\n",
        "[2]\tJ. Gallagher, “Python variables: A how-to guide,” Career Karma, 09-Dec-2020. [Online]. Available: https://careerkarma.com/blog/python-variables/. [Accessed: 22-Feb-2022].\n",
        "\n",
        "[3]\t“Python data types,” GeeksforGeeks, 29-Oct-2019. [Online]. Available: https://www.geeksforgeeks.org/python-data-types/. [Accessed: 22-Feb-2022].\n",
        "\n",
        "[4]\t“Python operators,” W3schools.com. [Online]. Available: https://www.w3schools.com/python/python_operators.asp. [Accessed: 22-Feb-2022].\n",
        "\n",
        "[5]\t“Python - Loops,” Tutorialspoint.com. [Online]. Available: https://www.tutorialspoint.com/python/python_loops.htm. [Accessed: 22-Feb-2022].\n",
        "\n",
        "[6]\t“Loops in python,” GeeksforGeeks, 07-Jun-2017. [Online]. Available: https://www.geeksforgeeks.org/loops-in-python/. [Accessed: 22-Feb-2022].\n",
        "\n",
        "[7]\t“Python for Loop,” Programiz.com. [Online]. Available: https://www.programiz.com/python-programming/for-loop. [Accessed: 22-Feb-2022].\n",
        "\n",
        "[8]\t“What are control flow statements in Python?,” Educative: Interactive Courses for Software Developers. [Online]. Available: https://www.educative.io/edpresso/what-are-control-flow-statements-in-python. [Accessed: 22-Feb-2022].\n",
        "\n",
        "[9]\tP. Sharma, “Conditional Statements wit Implementation in Python,” Analytics Vidhya, 15-Aug-2021. [Online]. Available: https://www.analyticsvidhya.com/blog/2021/08/a-comprehensive-guide-to-conditional-statements-in-python-for-data-science-beginners/. [Accessed: 22-Feb-2022].\n",
        "\n",
        "[10]\t“Python functions,” W3schools.com. [Online]. Available: https://www.w3schools.com/python/python_functions.asp. [Accessed: 22-Feb-2022].\n"
      ],
      "metadata": {
        "id": "58RbedbYSOdT"
      }
    }
  ]
}